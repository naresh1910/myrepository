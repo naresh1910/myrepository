{
  "nbformat": 4,
  "nbformat_minor": 0,
  "metadata": {
    "colab": {
      "provenance": [],
      "authorship_tag": "ABX9TyOp/MJchx9A1CXxqCf+k5rj",
      "include_colab_link": true
    },
    "kernelspec": {
      "name": "python3",
      "display_name": "Python 3"
    },
    "language_info": {
      "name": "python"
    }
  },
  "cells": [
    {
      "cell_type": "markdown",
      "metadata": {
        "id": "view-in-github",
        "colab_type": "text"
      },
      "source": [
        "<a href=\"https://colab.research.google.com/github/naresh1910/myrepository/blob/master/pandas.ipynb\" target=\"_parent\"><img src=\"https://colab.research.google.com/assets/colab-badge.svg\" alt=\"Open In Colab\"/></a>"
      ]
    },
    {
      "cell_type": "code",
      "execution_count": 1,
      "metadata": {
        "colab": {
          "base_uri": "https://localhost:8080/"
        },
        "id": "LwQTZEwIKqTE",
        "outputId": "c1ae3c03-3a9a-444f-a4ba-ca6cf7465c88"
      },
      "outputs": [
        {
          "output_type": "stream",
          "name": "stderr",
          "text": [
            "<ipython-input-1-86d5b22500d7>:4: DeprecationWarning: The default dtype for empty Series will be 'object' instead of 'float64' in a future version. Specify a dtype explicitly to silence this warning.\n",
            "  data = pd.Series()\n"
          ]
        },
        {
          "output_type": "execute_result",
          "data": {
            "text/plain": [
              "Series([], dtype: float64)"
            ]
          },
          "metadata": {},
          "execution_count": 1
        }
      ],
      "source": [
        "#create a empty series\n",
        "import pandas as pd\n",
        "import numpy as np\n",
        "data = pd.Series()\n",
        "data"
      ]
    },
    {
      "cell_type": "code",
      "source": [
        "#creating a serise from ndarray\n",
        "import numpy as np\n",
        "import pandas as pd\n",
        "data = np.array([1,2,3,4,5])\n",
        "df = pd.Series(data)\n",
        "df"
      ],
      "metadata": {
        "colab": {
          "base_uri": "https://localhost:8080/"
        },
        "id": "XydEpTbBLjxh",
        "outputId": "57e9a05d-fadb-4db8-ee0f-42829b07361f"
      },
      "execution_count": 2,
      "outputs": [
        {
          "output_type": "execute_result",
          "data": {
            "text/plain": [
              "0    1\n",
              "1    2\n",
              "2    3\n",
              "3    4\n",
              "4    5\n",
              "dtype: int64"
            ]
          },
          "metadata": {},
          "execution_count": 2
        }
      ]
    },
    {
      "cell_type": "code",
      "source": [
        "# creating an series with np.array and assign custom index\n",
        "import pandas as pd\n",
        "import numpy as np\n",
        "df = np.array([1,2,3,4,5])\n",
        "data = pd.Series(df, index = [101,102,103,104,105])\n",
        "data"
      ],
      "metadata": {
        "colab": {
          "base_uri": "https://localhost:8080/"
        },
        "id": "mj0MNfSJL0uN",
        "outputId": "112f4fa7-21e6-4947-c16e-c9d6daea1109"
      },
      "execution_count": 3,
      "outputs": [
        {
          "output_type": "execute_result",
          "data": {
            "text/plain": [
              "101    1\n",
              "102    2\n",
              "103    3\n",
              "104    4\n",
              "105    5\n",
              "dtype: int64"
            ]
          },
          "metadata": {},
          "execution_count": 3
        }
      ]
    },
    {
      "cell_type": "code",
      "source": [
        "# create a series from dictionary \n",
        "import pandas as pd\n",
        "import numpy as np\n",
        "df = {'a':0,'b':1,'c':2,'d':3,'e':4}\n",
        "data = pd.Series(df)\n",
        "data"
      ],
      "metadata": {
        "colab": {
          "base_uri": "https://localhost:8080/"
        },
        "id": "m4GKdBxeMHiW",
        "outputId": "0b1a46ff-7a78-44c0-b9b4-c6705ee76a28"
      },
      "execution_count": 4,
      "outputs": [
        {
          "output_type": "execute_result",
          "data": {
            "text/plain": [
              "a    0\n",
              "b    1\n",
              "c    2\n",
              "d    3\n",
              "e    4\n",
              "dtype: int64"
            ]
          },
          "metadata": {},
          "execution_count": 4
        }
      ]
    },
    {
      "cell_type": "code",
      "source": [
        "#import with custom index number and with dictionary\n",
        "import pandas as pd\n",
        "import numpy as np\n",
        "df = {1:'a',2:'b',3:'c'}\n",
        "data = pd.Series(df,index =[3,2,1])\n",
        "data"
      ],
      "metadata": {
        "colab": {
          "base_uri": "https://localhost:8080/"
        },
        "id": "ge2QDYumNWFV",
        "outputId": "ad2610ca-7045-49a6-e8de-a8ffc33bab92"
      },
      "execution_count": 8,
      "outputs": [
        {
          "output_type": "execute_result",
          "data": {
            "text/plain": [
              "3    c\n",
              "2    b\n",
              "1    a\n",
              "dtype: object"
            ]
          },
          "metadata": {},
          "execution_count": 8
        }
      ]
    },
    {
      "cell_type": "code",
      "source": [
        "#create a data series from scalar \n",
        "import pandas as pd\n",
        "import numpy as np\n",
        "df = pd.Series(5,index = [1,2,3,4,5])\n",
        "df"
      ],
      "metadata": {
        "colab": {
          "base_uri": "https://localhost:8080/"
        },
        "id": "11AoHoYWNnIB",
        "outputId": "64981104-1b49-41c4-ff2c-e1b4f9abceb8"
      },
      "execution_count": 9,
      "outputs": [
        {
          "output_type": "execute_result",
          "data": {
            "text/plain": [
              "1    5\n",
              "2    5\n",
              "3    5\n",
              "4    5\n",
              "5    5\n",
              "dtype: int64"
            ]
          },
          "metadata": {},
          "execution_count": 9
        }
      ]
    },
    {
      "cell_type": "code",
      "source": [
        "#Accessing Data from Series with position\n",
        "import numpy as np\n",
        "import pandas as pd\n",
        "df = pd.Series([1,2,3,4,5],index = ['a','b','c','d','e'])\n",
        "df[:1]"
      ],
      "metadata": {
        "colab": {
          "base_uri": "https://localhost:8080/"
        },
        "id": "aWCBwKGXN5eT",
        "outputId": "c220eb84-c9c1-45a9-c631-4d8b3a4131d2"
      },
      "execution_count": 16,
      "outputs": [
        {
          "output_type": "execute_result",
          "data": {
            "text/plain": [
              "a    1\n",
              "dtype: int64"
            ]
          },
          "metadata": {},
          "execution_count": 16
        }
      ]
    },
    {
      "cell_type": "code",
      "source": [
        "# Retrieve data using label\n",
        "import numpy as np\n",
        "import pandas as pd\n",
        "df = pd.Series([1,2,3,4,5],index = ['a','b','c','d','e'])\n",
        "df['a']"
      ],
      "metadata": {
        "colab": {
          "base_uri": "https://localhost:8080/"
        },
        "id": "hPfNchZKO216",
        "outputId": "b30e751d-827e-46e1-94c2-7d144df7cca5"
      },
      "execution_count": 18,
      "outputs": [
        {
          "output_type": "execute_result",
          "data": {
            "text/plain": [
              "1"
            ]
          },
          "metadata": {},
          "execution_count": 18
        }
      ]
    },
    {
      "cell_type": "code",
      "source": [
        "# Retrieve data using label\n",
        "import numpy as np\n",
        "import pandas as pd\n",
        "df = pd.Series([1,2,3,4,5],index = ['a','b','c','d','e'])\n",
        "df[['a','b','c']]"
      ],
      "metadata": {
        "colab": {
          "base_uri": "https://localhost:8080/"
        },
        "id": "t3yMRNZNPGoA",
        "outputId": "bbcddc60-d1a6-4ca3-e505-a6d22c3bc669"
      },
      "execution_count": 19,
      "outputs": [
        {
          "output_type": "execute_result",
          "data": {
            "text/plain": [
              "a    1\n",
              "b    2\n",
              "c    3\n",
              "dtype: int64"
            ]
          },
          "metadata": {},
          "execution_count": 19
        }
      ]
    },
    {
      "cell_type": "code",
      "source": [
        "import pandas as pd\n",
        "s = pd.Series([1,2,3,4,5],index = ['a','b','c','d','e'])\n",
        "\n",
        "#retrieve multiple elements\n",
        "print s['f']"
      ],
      "metadata": {
        "colab": {
          "base_uri": "https://localhost:8080/",
          "height": 133
        },
        "id": "ie859lsGPQaT",
        "outputId": "90867716-12c2-4e14-bc5b-49005f3f4ab1"
      },
      "execution_count": 20,
      "outputs": [
        {
          "output_type": "error",
          "ename": "SyntaxError",
          "evalue": "ignored",
          "traceback": [
            "\u001b[0;36m  File \u001b[0;32m\"<ipython-input-20-8c3eeae8379d>\"\u001b[0;36m, line \u001b[0;32m5\u001b[0m\n\u001b[0;31m    print s['f']\u001b[0m\n\u001b[0m          ^\u001b[0m\n\u001b[0;31mSyntaxError\u001b[0m\u001b[0;31m:\u001b[0m Missing parentheses in call to 'print'. Did you mean print(s['f'])?\n"
          ]
        }
      ]
    }
  ]
}